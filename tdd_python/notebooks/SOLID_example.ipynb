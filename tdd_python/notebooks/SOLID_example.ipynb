{
  "nbformat": 4,
  "nbformat_minor": 0,
  "metadata": {
    "colab": {
      "name": "SOLID_example.ipynb",
      "provenance": [],
      "authorship_tag": "ABX9TyMZgbgD618b6rvNmPkvQ1AX",
      "include_colab_link": true
    },
    "kernelspec": {
      "name": "python3",
      "display_name": "Python 3"
    },
    "language_info": {
      "name": "python"
    }
  },
  "cells": [
    {
      "cell_type": "markdown",
      "metadata": {
        "id": "view-in-github",
        "colab_type": "text"
      },
      "source": [
        "<a href=\"https://colab.research.google.com/github/changsin/TDD/blob/main/tdd_python/notebooks/SOLID_example.ipynb\" target=\"_parent\"><img src=\"https://colab.research.google.com/assets/colab-badge.svg\" alt=\"Open In Colab\"/></a>"
      ]
    },
    {
      "cell_type": "code",
      "metadata": {
        "id": "w7Gkm4T9f2th"
      },
      "source": [
        "import matplotlib.pyplot as plt\n",
        "\n",
        "def plot_stats(stats, types, titles):\n",
        "  x_bar = np.arange(stats[0].shape[0])\n",
        "  bar_width = .35\n",
        "\n",
        "  fig = plt.figure(figsize=(20,40))\n",
        "\n",
        "  for i, stat in zip(range(len(stats)), stats):\n",
        "    ax = fig.add_subplot(10, 4, i+1)\n",
        "    # plt.axis('off')\n",
        "\n",
        "    for t in types:\n",
        "      if \"mAP\" == t:\n",
        "        rects1 = ax.bar(x_bar - bar_width/3, stat[:, 0], label=\"mAP\")\n",
        "      if \"std\" == t:\n",
        "        rects2 = ax.bar(x_bar, stat[:, 1], label=\"std\")\n",
        "      if \"accuracy\" == t:\n",
        "        rects3 = ax.bar(x_bar + bar_width/3, stat[:, 2], label=\"accuracy\")\n",
        "\n",
        "    ax.set_xticks(x_bar)\n",
        "    ax.set_xticklabels(x_bar)\n",
        "    ax.set_title(titles[i])\n",
        "\n",
        "    ax.legend()\n",
        "\n",
        "  fig.tight_layout()\n",
        "\n",
        "# plot line graph for comparing different noise level results\n",
        "def plot_stats_by_type(stats, x_bins, column, title, clusters=5, merge=False):\n",
        "  fig = plt.figure(figsize=(20,40))\n",
        "  ax = fig.add_subplot(10, 4, 1)\n",
        "\n",
        "  if merge:\n",
        "    p = ax.plot(x_bins, [np.mean(run) for run in stats_noise[:, :, 1]], label='avg')\n",
        "  else:\n",
        "    x_bins_len = len(x_bins)\n",
        "    for cluster_id in range(len(clusters)):\n",
        "      print(cluster_id, x_bins_len, column)\n",
        "      p = ax.plot(x_bins, stats[:x_bins_len, :, column][:, cluster_id], label=cluster_id)\n",
        "    # p = ax.plot(noise_levels, stats[:bins, :, column][:, 0], color='green', label='0')\n",
        "\n",
        "  ax.set_title(title)\n",
        "  ax.legend()"
      ],
      "execution_count": 37,
      "outputs": []
    },
    {
      "cell_type": "code",
      "metadata": {
        "id": "8p-V9yRoDxya"
      },
      "source": [
        "import numpy as np\n",
        "\n",
        "result1 = np.array([[0.81   , 0.043   , 0.677],\n",
        "                    [0.72   , 0.063   , 0.333],\n",
        "                    [0.67   , 0.062   , 1.   ],\n",
        "                    [0.77   , 0.051   , 0.765],\n",
        "                    [0.88   , 0.045   , 0.462]])\n",
        "\n",
        "result2 = np.array([[0.909, 0.051, 0.71 ],\n",
        "                    [0.909, 0.049, 0.933],\n",
        "                    [0.   , 0.059, 0.833],\n",
        "                    [0.909, 0.055, 0.882],\n",
        "                    [0.909, 0.053, 0.692]])\n",
        "\n"
      ],
      "execution_count": 14,
      "outputs": []
    },
    {
      "cell_type": "code",
      "metadata": {
        "colab": {
          "base_uri": "https://localhost:8080/",
          "height": 323
        },
        "id": "oS5y0ewuS2Vm",
        "outputId": "2e4ff607-c465-42d5-dd41-93f52da95676"
      },
      "source": [
        "plot_stats([result1, result2], [\"std\", \"accuracy\"], [\"cnn1\", \"prob1\"] )"
      ],
      "execution_count": 28,
      "outputs": [
        {
          "output_type": "display_data",
          "data": {
            "image/png": "[encoded data removed]",
            "text/plain": [
              "<Figure size 1440x2880 with 2 Axes>"
            ]
          },
          "metadata": {
            "needs_background": "light"
          }
        }
      ]
    },
    {
      "cell_type": "code",
      "metadata": {
        "colab": {
          "base_uri": "https://localhost:8080/",
          "height": 332
        },
        "id": "D1QiKS3fTG8b",
        "outputId": "5d234eda-3bca-42af-aec5-8da347d85c5d"
      },
      "source": [
        "plot_stats_by_type(np.array([result1, result2]), ['cnn', 'prob'], 1, 'std', clusters=range(5))"
      ],
      "execution_count": 42,
      "outputs": [
        {
          "output_type": "stream",
          "name": "stdout",
          "text": [
            "0 2 1\n",
            "1 2 1\n",
            "2 2 1\n",
            "3 2 1\n",
            "4 2 1\n"
          ]
        },
        {
          "output_type": "display_data",
          "data": {
            "image/png": "[encoded data removed]",
            "text/plain": [
              "<Figure size 1440x2880 with 1 Axes>"
            ]
          },
          "metadata": {
            "needs_background": "light"
          }
        }
      ]
    },
    {
      "cell_type": "code",
      "metadata": {
        "id": "0zhn9C1DFTUA"
      },
      "source": [
        "class Analyzer:\n",
        "    def __init__(self):\n",
        "        self.names = []\n",
        "        self.accuracies = []\n",
        "        self.maps = []\n",
        "\n",
        "    def add_result(self, name, accuracies, maps):\n",
        "        self.names.append(name)\n",
        "        self.accuracies.append(accuracies)\n",
        "        self.maps.append(maps)\n",
        "\n",
        "    def calc_map(self):\n",
        "        return 0\n",
        "\n",
        "    def plot(self, plot_type, title):\n",
        "        if plot_type == \"debit\":\n",
        "            print(\"Processing debit payment type\")\n",
        "            print(f\"Verifying security code: {title}\")\n",
        "        elif plot_type == \"credit\":\n",
        "            print(\"Processing credit payment type\")\n",
        "            print(f\"Verifying security code: {title}\")\n",
        "        else:\n",
        "            raise Exception(f\"Unknown payment type: {title}\")"
      ],
      "execution_count": null,
      "outputs": []
    },
    {
      "cell_type": "code",
      "metadata": {
        "id": "5B9yzMJoZZEz"
      },
      "source": [
        ""
      ],
      "execution_count": null,
      "outputs": []
    }
  ]
}